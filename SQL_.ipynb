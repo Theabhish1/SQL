{
  "nbformat": 4,
  "nbformat_minor": 0,
  "metadata": {
    "colab": {
      "provenance": []
    },
    "kernelspec": {
      "name": "python3",
      "display_name": "Python 3"
    },
    "language_info": {
      "name": "python"
    }
  },
  "cells": [
    {
      "cell_type": "code",
      "execution_count": 87,
      "metadata": {
        "id": "368kuGgz2igM",
        "colab": {
          "base_uri": "https://localhost:8080/",
          "height": 35
        },
        "outputId": "97b53bbb-78cd-475a-cf3d-13223c84a599"
      },
      "outputs": [
        {
          "output_type": "execute_result",
          "data": {
            "text/plain": [
              "'/content'"
            ],
            "application/vnd.google.colaboratory.intrinsic+json": {
              "type": "string"
            }
          },
          "metadata": {},
          "execution_count": 87
        }
      ],
      "source": [
        "import os\n",
        "import sqlite3\n",
        "os.getcwd()\n",
        "\n"
      ]
    },
    {
      "cell_type": "markdown",
      "source": [
        "**CREATE AND CONNECT DATABASE**"
      ],
      "metadata": {
        "id": "8tdkfTdjnzbI"
      }
    },
    {
      "cell_type": "code",
      "source": [
        "connection = sqlite3.connect('Abhish1.db')\n",
        "crsr = connection.cursor()"
      ],
      "metadata": {
        "id": "Kkb0kpcJ29kW"
      },
      "execution_count": 88,
      "outputs": []
    },
    {
      "cell_type": "markdown",
      "source": [
        "**CREATE A TABLE**"
      ],
      "metadata": {
        "id": "9dmu9setogZe"
      }
    },
    {
      "cell_type": "code",
      "source": [
        "sql_command=\"\"\"\n",
        "    CREATE TABLE IF NOT EXISTS Ages (\n",
        "        name VARCHAR(128),\n",
        "        age INTEGER\n",
        "    );\"\"\"\n",
        "crsr.execute(sql_command)"
      ],
      "metadata": {
        "colab": {
          "base_uri": "https://localhost:8080/"
        },
        "id": "HKQpHoK13C-4",
        "outputId": "7491d30a-d4f2-48ed-ad62-7df279404707"
      },
      "execution_count": 89,
      "outputs": [
        {
          "output_type": "execute_result",
          "data": {
            "text/plain": [
              "<sqlite3.Cursor at 0x7af70917b9c0>"
            ]
          },
          "metadata": {},
          "execution_count": 89
        }
      ]
    },
    {
      "cell_type": "markdown",
      "source": [
        "**DELETE EVERYTHING FROM TABLE(AGES)**"
      ],
      "metadata": {
        "id": "ER8WcSJBow8T"
      }
    },
    {
      "cell_type": "code",
      "source": [
        "crsr.execute('DELETE FROM Ages')"
      ],
      "metadata": {
        "colab": {
          "base_uri": "https://localhost:8080/"
        },
        "id": "lxbG9BNXnWwO",
        "outputId": "a7aab918-ec9f-4ca2-f024-d9cd3eddbdc8"
      },
      "execution_count": 90,
      "outputs": [
        {
          "output_type": "execute_result",
          "data": {
            "text/plain": [
              "<sqlite3.Cursor at 0x7af70917b9c0>"
            ]
          },
          "metadata": {},
          "execution_count": 90
        }
      ]
    },
    {
      "cell_type": "markdown",
      "source": [
        "**FETCH DATA FROM TABLE (NOW TABLE WILL BE BLANK DUE TO DELETE QUERY IN PREVIOUS CELL)**"
      ],
      "metadata": {
        "id": "A4krgdJQo8iq"
      }
    },
    {
      "cell_type": "code",
      "source": [
        "crsr.execute(\"SELECT * FROM Ages\")\n",
        "data=crsr.fetchall()\n",
        "for j in data:\n",
        "  print(i)"
      ],
      "metadata": {
        "id": "h-3lXWGunh4m"
      },
      "execution_count": 91,
      "outputs": []
    },
    {
      "cell_type": "markdown",
      "source": [
        "**INSERT THE DATA IN TABLE**"
      ],
      "metadata": {
        "id": "kyb_rFfvphx1"
      }
    },
    {
      "cell_type": "code",
      "source": [
        "sql_command=\"\"\"INSERT INTO Ages VALUES ('Mara', 28);\"\"\"\n",
        "crsr.execute(sql_command)\n",
        "sql_command=\"\"\"INSERT INTO Ages VALUES ('Otto', 33);\"\"\"\n",
        "crsr.execute(sql_command)\n",
        "sql_command=\"\"\"INSERT INTO Ages VALUES ('Fyn', 31);\"\"\"\n",
        "crsr.execute(sql_command)\n",
        "sql_command=\"\"\"INSERT INTO Ages VALUES ('Neshawn', 17);\"\"\"\n",
        "crsr.execute(sql_command)\n",
        "connection.commit()"
      ],
      "metadata": {
        "id": "cesh5TmB3J-U"
      },
      "execution_count": 92,
      "outputs": []
    },
    {
      "cell_type": "markdown",
      "source": [
        "**FETCH THE DATA IN TABLE**"
      ],
      "metadata": {
        "id": "P2f6lBBOqCkM"
      }
    },
    {
      "cell_type": "code",
      "source": [
        "crsr.execute(\"SELECT * FROM Ages\")\n",
        "data=crsr.fetchall()\n",
        "for i in data:\n",
        "  print(i)"
      ],
      "metadata": {
        "colab": {
          "base_uri": "https://localhost:8080/"
        },
        "id": "DttDvWYYmYb0",
        "outputId": "06457fc3-847d-49ca-ca7c-992615efe9e8"
      },
      "execution_count": 93,
      "outputs": [
        {
          "output_type": "stream",
          "name": "stdout",
          "text": [
            "('Mara', 28)\n",
            "('Otto', 33)\n",
            "('Fyn', 31)\n",
            "('Neshawn', 17)\n"
          ]
        }
      ]
    },
    {
      "cell_type": "markdown",
      "source": [
        "**SQL COMMAND**"
      ],
      "metadata": {
        "id": "dEtHgRomse34"
      }
    },
    {
      "cell_type": "code",
      "source": [
        "crsr.execute(\"SELECT hex(name || age) AS X FROM Ages ORDER BY X\")\n",
        "result_set=crsr.fetchall()\n",
        "for k in data:\n",
        "  print(k)"
      ],
      "metadata": {
        "colab": {
          "base_uri": "https://localhost:8080/"
        },
        "id": "lmtn6uS3rQN7",
        "outputId": "2e1bf073-9760-4717-884a-6d31ec0c6364"
      },
      "execution_count": 94,
      "outputs": [
        {
          "output_type": "stream",
          "name": "stdout",
          "text": [
            "('Mara', 28)\n",
            "('Otto', 33)\n",
            "('Fyn', 31)\n",
            "('Neshawn', 17)\n"
          ]
        }
      ]
    },
    {
      "cell_type": "markdown",
      "source": [
        "**FIND FIRST ROW AND RESULTING RECORD SET**"
      ],
      "metadata": {
        "id": "z2pRz1uksHsc"
      }
    },
    {
      "cell_type": "code",
      "source": [
        "# Find and print the first row\n",
        "if result_set:\n",
        "    first_row = result_set[0][0]\n",
        "    print(\"The first row in the resulting record set:\", first_row)\n",
        "connection.close()"
      ],
      "metadata": {
        "colab": {
          "base_uri": "https://localhost:8080/"
        },
        "id": "F6vBMGME3PGc",
        "outputId": "329c861f-f2a8-4d6a-c783-e9539098b94b"
      },
      "execution_count": 95,
      "outputs": [
        {
          "output_type": "stream",
          "name": "stdout",
          "text": [
            "The first row in the resulting record set: 46796E3331\n"
          ]
        }
      ]
    },
    {
      "cell_type": "code",
      "source": [
        "long_string=\"53656C696E613333\"\n"
      ],
      "metadata": {
        "id": "U7RaNdwvvX6I"
      },
      "execution_count": 96,
      "outputs": []
    },
    {
      "cell_type": "code",
      "source": [],
      "metadata": {
        "id": "qGzG8GXAv4pI"
      },
      "execution_count": null,
      "outputs": []
    }
  ]
}